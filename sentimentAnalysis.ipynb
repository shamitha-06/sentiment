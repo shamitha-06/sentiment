{
 "cells": [
  {
   "cell_type": "code",
   "execution_count": 1,
   "id": "688b75ef",
   "metadata": {},
   "outputs": [
    {
     "name": "stdout",
     "output_type": "stream",
     "text": [
      "Requirement already satisfied: matplotlib in c:\\users\\shamithareddy\\appdata\\local\\programs\\python\\python38\\lib\\site-packages (3.7.5)\n",
      "Requirement already satisfied: contourpy>=1.0.1 in c:\\users\\shamithareddy\\appdata\\local\\programs\\python\\python38\\lib\\site-packages (from matplotlib) (1.1.1)\n",
      "Requirement already satisfied: cycler>=0.10 in c:\\users\\shamithareddy\\appdata\\local\\programs\\python\\python38\\lib\\site-packages (from matplotlib) (0.12.1)\n",
      "Requirement already satisfied: fonttools>=4.22.0 in c:\\users\\shamithareddy\\appdata\\local\\programs\\python\\python38\\lib\\site-packages (from matplotlib) (4.57.0)\n",
      "Requirement already satisfied: kiwisolver>=1.0.1 in c:\\users\\shamithareddy\\appdata\\local\\programs\\python\\python38\\lib\\site-packages (from matplotlib) (1.4.5)\n",
      "Requirement already satisfied: numpy<2,>=1.20 in c:\\users\\shamithareddy\\appdata\\local\\programs\\python\\python38\\lib\\site-packages (from matplotlib) (1.23.5)\n",
      "Requirement already satisfied: packaging>=20.0 in c:\\users\\shamithareddy\\appdata\\local\\programs\\python\\python38\\lib\\site-packages (from matplotlib) (24.1)\n",
      "Requirement already satisfied: pillow>=6.2.0 in c:\\users\\shamithareddy\\appdata\\local\\programs\\python\\python38\\lib\\site-packages (from matplotlib) (10.4.0)\n",
      "Requirement already satisfied: pyparsing>=2.3.1 in c:\\users\\shamithareddy\\appdata\\local\\programs\\python\\python38\\lib\\site-packages (from matplotlib) (3.1.2)\n",
      "Requirement already satisfied: python-dateutil>=2.7 in c:\\users\\shamithareddy\\appdata\\local\\programs\\python\\python38\\lib\\site-packages (from matplotlib) (2.9.0.post0)\n",
      "Requirement already satisfied: importlib-resources>=3.2.0 in c:\\users\\shamithareddy\\appdata\\local\\programs\\python\\python38\\lib\\site-packages (from matplotlib) (6.4.5)\n",
      "Requirement already satisfied: zipp>=3.1.0 in c:\\users\\shamithareddy\\appdata\\local\\programs\\python\\python38\\lib\\site-packages (from importlib-resources>=3.2.0->matplotlib) (3.20.0)\n",
      "Requirement already satisfied: six>=1.5 in c:\\users\\shamithareddy\\appdata\\local\\programs\\python\\python38\\lib\\site-packages (from python-dateutil>=2.7->matplotlib) (1.16.0)\n",
      "Note: you may need to restart the kernel to use updated packages.\n"
     ]
    }
   ],
   "source": [
    "pip install matplotlib"
   ]
  },
  {
   "cell_type": "code",
   "execution_count": 2,
   "id": "e67b4e86",
   "metadata": {},
   "outputs": [],
   "source": [
    "import pandas as pd\n",
    "import numpy as np\n",
    "import matplotlib.pyplot as plt\n",
    "import seaborn as sns\n",
    "import nltk\n",
    "from sklearn.model_selection import train_test_split\n",
    "from sklearn.feature_extraction.text import CountVectorizer\n",
    "from sklearn.linear_model import LogisticRegression\n",
    "from sklearn.metrics import classification_report,confusion_matrix,accuracy_score"
   ]
  },
  {
   "cell_type": "code",
   "execution_count": 3,
   "id": "3f178d44",
   "metadata": {},
   "outputs": [
    {
     "name": "stderr",
     "output_type": "stream",
     "text": [
      "[nltk_data] Downloading package stopwords to\n",
      "[nltk_data]     C:\\Users\\ShamithaReddy\\AppData\\Roaming\\nltk_data...\n",
      "[nltk_data]   Package stopwords is already up-to-date!\n",
      "[nltk_data] Downloading package punkt to\n",
      "[nltk_data]     C:\\Users\\ShamithaReddy\\AppData\\Roaming\\nltk_data...\n",
      "[nltk_data]   Package punkt is already up-to-date!\n"
     ]
    }
   ],
   "source": [
    "nltk.download('stopwords')\n",
    "nltk.download('punkt')\n",
    "from nltk.corpus import stopwords\n",
    "from nltk.tokenize import word_tokenize\n",
    "import re"
   ]
  },
  {
   "cell_type": "code",
   "execution_count": 4,
   "id": "7915e159",
   "metadata": {},
   "outputs": [
    {
     "data": {
      "text/html": [
       "<div>\n",
       "<style scoped>\n",
       "    .dataframe tbody tr th:only-of-type {\n",
       "        vertical-align: middle;\n",
       "    }\n",
       "\n",
       "    .dataframe tbody tr th {\n",
       "        vertical-align: top;\n",
       "    }\n",
       "\n",
       "    .dataframe thead th {\n",
       "        text-align: right;\n",
       "    }\n",
       "</style>\n",
       "<table border=\"1\" class=\"dataframe\">\n",
       "  <thead>\n",
       "    <tr style=\"text-align: right;\">\n",
       "      <th></th>\n",
       "      <th>review</th>\n",
       "      <th>sentiment</th>\n",
       "    </tr>\n",
       "  </thead>\n",
       "  <tbody>\n",
       "    <tr>\n",
       "      <th>0</th>\n",
       "      <td>One of the other reviewers has mentioned that ...</td>\n",
       "      <td>positive</td>\n",
       "    </tr>\n",
       "    <tr>\n",
       "      <th>1</th>\n",
       "      <td>A wonderful little production. &lt;br /&gt;&lt;br /&gt;The...</td>\n",
       "      <td>positive</td>\n",
       "    </tr>\n",
       "    <tr>\n",
       "      <th>2</th>\n",
       "      <td>I thought this was a wonderful way to spend ti...</td>\n",
       "      <td>positive</td>\n",
       "    </tr>\n",
       "    <tr>\n",
       "      <th>3</th>\n",
       "      <td>Basically there's a family where a little boy ...</td>\n",
       "      <td>negative</td>\n",
       "    </tr>\n",
       "    <tr>\n",
       "      <th>4</th>\n",
       "      <td>Petter Mattei's \"Love in the Time of Money\" is...</td>\n",
       "      <td>positive</td>\n",
       "    </tr>\n",
       "    <tr>\n",
       "      <th>...</th>\n",
       "      <td>...</td>\n",
       "      <td>...</td>\n",
       "    </tr>\n",
       "    <tr>\n",
       "      <th>49995</th>\n",
       "      <td>I thought this movie did a down right good job...</td>\n",
       "      <td>positive</td>\n",
       "    </tr>\n",
       "    <tr>\n",
       "      <th>49996</th>\n",
       "      <td>Bad plot, bad dialogue, bad acting, idiotic di...</td>\n",
       "      <td>negative</td>\n",
       "    </tr>\n",
       "    <tr>\n",
       "      <th>49997</th>\n",
       "      <td>I am a Catholic taught in parochial elementary...</td>\n",
       "      <td>negative</td>\n",
       "    </tr>\n",
       "    <tr>\n",
       "      <th>49998</th>\n",
       "      <td>I'm going to have to disagree with the previou...</td>\n",
       "      <td>negative</td>\n",
       "    </tr>\n",
       "    <tr>\n",
       "      <th>49999</th>\n",
       "      <td>No one expects the Star Trek movies to be high...</td>\n",
       "      <td>negative</td>\n",
       "    </tr>\n",
       "  </tbody>\n",
       "</table>\n",
       "<p>50000 rows × 2 columns</p>\n",
       "</div>"
      ],
      "text/plain": [
       "                                                  review sentiment\n",
       "0      One of the other reviewers has mentioned that ...  positive\n",
       "1      A wonderful little production. <br /><br />The...  positive\n",
       "2      I thought this was a wonderful way to spend ti...  positive\n",
       "3      Basically there's a family where a little boy ...  negative\n",
       "4      Petter Mattei's \"Love in the Time of Money\" is...  positive\n",
       "...                                                  ...       ...\n",
       "49995  I thought this movie did a down right good job...  positive\n",
       "49996  Bad plot, bad dialogue, bad acting, idiotic di...  negative\n",
       "49997  I am a Catholic taught in parochial elementary...  negative\n",
       "49998  I'm going to have to disagree with the previou...  negative\n",
       "49999  No one expects the Star Trek movies to be high...  negative\n",
       "\n",
       "[50000 rows x 2 columns]"
      ]
     },
     "execution_count": 4,
     "metadata": {},
     "output_type": "execute_result"
    }
   ],
   "source": [
    "df=pd.read_csv('IMDB Dataset.csv')\n",
    "df"
   ]
  },
  {
   "cell_type": "code",
   "execution_count": 5,
   "id": "1e4546cd",
   "metadata": {},
   "outputs": [
    {
     "name": "stderr",
     "output_type": "stream",
     "text": [
      "[nltk_data] Downloading package wordnet to\n",
      "[nltk_data]     C:\\Users\\ShamithaReddy\\AppData\\Roaming\\nltk_data...\n",
      "[nltk_data]   Package wordnet is already up-to-date!\n"
     ]
    },
    {
     "data": {
      "text/plain": [
       "True"
      ]
     },
     "execution_count": 5,
     "metadata": {},
     "output_type": "execute_result"
    }
   ],
   "source": [
    "nltk.download('wordnet')"
   ]
  },
  {
   "cell_type": "code",
   "execution_count": 10,
   "id": "3669ae72",
   "metadata": {},
   "outputs": [
    {
     "name": "stdout",
     "output_type": "stream",
     "text": [
      "[\"One of the other reviewers has mentioned that after watching just 1 Oz episode you'll be hooked. They are right, as this is exactly what happened with me.<br /><br />The first thing that struck me about Oz was its brutality and unflinching scenes of violence, which set in right from the word GO. Trust me, this is not a show for the faint hearted or timid. This show pulls no punches with regards to drugs, sex or violence. Its is hardcore, in the classic use of the word.<br /><br />It is called OZ as that is the nickname given to the Oswald Maximum Security State Penitentary. It focuses mainly on Emerald City, an experimental section of the prison where all the cells have glass fronts and face inwards, so privacy is not high on the agenda. Em City is home to many..Aryans, Muslims, gangstas, Latinos, Christians, Italians, Irish and more....so scuffles, death stares, dodgy dealings and shady agreements are never far away.<br /><br />I would say the main appeal of the show is due to the fact that it goes where other shows wouldn't dare. Forget pretty pictures painted for mainstream audiences, forget charm, forget romance...OZ doesn't mess around. The first episode I ever saw struck me as so nasty it was surreal, I couldn't say I was ready for it, but as I watched more, I developed a taste for Oz, and got accustomed to the high levels of graphic violence. Not just violence, but injustice (crooked guards who'll be sold out for a nickel, inmates who'll kill on order and get away with it, well mannered, middle class inmates being turned into prison bitches due to their lack of street skills or prison experience) Watching Oz, you may become comfortable with what is uncomfortable viewing....thats if you can get in touch with your darker side.\"\n",
      " 'one reviewers mentioned watching oz episode youll hooked right exactly happened methe first thing struck oz brutality unflinching scenes violence set right word go trust show faint hearted timid show pulls punches regards drugs sex violence hardcore classic use wordit called oz nickname given oswald maximum security state penitentary focuses mainly emerald city experimental section prison cells glass fronts face inwards privacy high agenda em city home manyaryans muslims gangstas latinos christians italians irish moreso scuffles death stares dodgy dealings shady agreements never far awayi would say main appeal show due fact goes shows wouldnt dare forget pretty pictures painted mainstream audiences forget charm forget romanceoz doesnt mess around first episode ever saw struck nasty surreal couldnt say ready watched developed taste oz got accustomed high levels graphic violence violence injustice crooked guards wholl sold nickel inmates wholl kill order get away well mannered middle class inmates turned prison bitches due lack street skills prison experience watching oz may become comfortable uncomfortable viewingthats get touch darker side']\n"
     ]
    }
   ],
   "source": [
    "def preprocess_text(text):\n",
    "    text=text.lower()\n",
    "    text=re.sub(r'<.*?>','',text)\n",
    "    text=re.sub(r'[^a-zA-Z\\s]','',text)\n",
    "    tokens=word_tokenize(text)\n",
    "    tokens=[word for word in tokens if word not in stopwords.words('english')]\n",
    "    return ' '.join(tokens)\n",
    "\n",
    "df['cleaned_review']=df['review'].apply(preprocess_text)\n",
    "print(df[['review','cleaned_review']].head(1).values[0])"
   ]
  },
  {
   "cell_type": "code",
   "execution_count": 11,
   "id": "cb16033f",
   "metadata": {},
   "outputs": [
    {
     "name": "stdout",
     "output_type": "stream",
     "text": [
      "TF-IDF Matrix Shape: (50000, 214455)\n",
      "Sample TF_IDF Row:   (0, 133462)\t1\n",
      "  (0, 156898)\t1\n",
      "  (0, 117666)\t1\n",
      "  (0, 205356)\t1\n",
      "  (0, 137152)\t1\n",
      "  (0, 59447)\t1\n",
      "  (0, 213217)\t1\n",
      "  (0, 88237)\t1\n",
      "  (0, 157661)\t1\n",
      "  (0, 61385)\t1\n",
      "  (0, 82434)\t1\n",
      "  (0, 118267)\t1\n",
      "  (0, 68341)\t1\n",
      "  (0, 189042)\t1\n",
      "  (0, 180718)\t1\n",
      "  (0, 24341)\t1\n",
      "  (0, 198594)\t1\n",
      "  (0, 163064)\t1\n",
      "  (0, 203070)\t1\n",
      "  (0, 167360)\t1\n",
      "  (0, 210344)\t1\n",
      "  (0, 76948)\t1\n",
      "  (0, 195533)\t1\n",
      "  (0, 169726)\t1\n",
      "  (0, 63857)\t1\n",
      "  :\t:\n",
      "  (0, 174230)\t1\n",
      "  (0, 128183)\t1\n",
      "  (0, 93976)\t1\n",
      "  (0, 101921)\t1\n",
      "  (0, 134744)\t1\n",
      "  (0, 75571)\t1\n",
      "  (0, 12686)\t1\n",
      "  (0, 206541)\t1\n",
      "  (0, 113717)\t1\n",
      "  (0, 118662)\t1\n",
      "  (0, 33560)\t1\n",
      "  (0, 196052)\t1\n",
      "  (0, 19219)\t1\n",
      "  (0, 104063)\t1\n",
      "  (0, 180346)\t1\n",
      "  (0, 171950)\t1\n",
      "  (0, 62409)\t1\n",
      "  (0, 115725)\t1\n",
      "  (0, 16216)\t1\n",
      "  (0, 36038)\t1\n",
      "  (0, 197780)\t1\n",
      "  (0, 202741)\t1\n",
      "  (0, 193261)\t1\n",
      "  (0, 43869)\t1\n",
      "  (0, 170400)\t1\n"
     ]
    }
   ],
   "source": [
    "from sklearn.feature_extraction.text import CountVectorizer\n",
    "\n",
    "vectorizer=CountVectorizer(binary=True)\n",
    "X=vectorizer.fit_transform(df['cleaned_review'])\n",
    "y=df['sentiment'].apply(lambda x :1 if x=='positive' else 0)\n",
    "print(\"TF-IDF Matrix Shape:\",X.shape)\n",
    "print(\"Sample TF_IDF Row:\",X[0][:10])"
   ]
  },
  {
   "cell_type": "code",
   "execution_count": 12,
   "id": "6142dee0",
   "metadata": {},
   "outputs": [
    {
     "name": "stdout",
     "output_type": "stream",
     "text": [
      "  (0, 133462)\t1\n",
      "  (0, 68341)\t1\n",
      "  (0, 112677)\t1\n",
      "  (0, 54131)\t1\n",
      "  (0, 60824)\t1\n",
      "  (0, 152955)\t1\n",
      "  (0, 80117)\t1\n",
      "  (0, 61035)\t1\n",
      "  (0, 190912)\t1\n",
      "  (0, 115208)\t1\n",
      "  (0, 94957)\t1\n",
      "  (0, 108004)\t1\n",
      "  (0, 7727)\t1\n",
      "  (0, 109920)\t1\n",
      "  (0, 210699)\t1\n",
      "  (0, 18648)\t1\n",
      "  (0, 17876)\t1\n",
      "  (0, 21859)\t1\n",
      "  (0, 191212)\t1\n",
      "  (0, 101660)\t1\n",
      "  (0, 89730)\t1\n",
      "  (0, 108032)\t1\n",
      "  (0, 48370)\t1\n",
      "  (0, 121720)\t1\n",
      "  (0, 192630)\t1\n",
      "  :\t:\n",
      "  (9999, 3689)\t1\n",
      "  (9999, 75437)\t1\n",
      "  (9999, 51980)\t1\n",
      "  (9999, 39786)\t1\n",
      "  (9999, 155143)\t1\n",
      "  (9999, 189243)\t1\n",
      "  (9999, 165034)\t1\n",
      "  (9999, 89208)\t1\n",
      "  (9999, 202431)\t1\n",
      "  (9999, 53967)\t1\n",
      "  (9999, 132897)\t1\n",
      "  (9999, 165371)\t1\n",
      "  (9999, 26666)\t1\n",
      "  (9999, 179565)\t1\n",
      "  (9999, 6792)\t1\n",
      "  (9999, 62054)\t1\n",
      "  (9999, 154710)\t1\n",
      "  (9999, 192504)\t1\n",
      "  (9999, 55777)\t1\n",
      "  (9999, 54519)\t1\n",
      "  (9999, 35396)\t1\n",
      "  (9999, 79781)\t1\n",
      "  (9999, 71463)\t1\n",
      "  (9999, 42469)\t1\n",
      "  (9999, 144813)\t1\n"
     ]
    }
   ],
   "source": [
    "from sklearn.model_selection import train_test_split\n",
    "X_train,X_test,y_train,y_test=train_test_split(X,y,test_size=0.2,random_state=42)\n",
    "print(X_test)"
   ]
  },
  {
   "cell_type": "code",
   "execution_count": 13,
   "id": "8fc8898e",
   "metadata": {},
   "outputs": [
    {
     "name": "stdout",
     "output_type": "stream",
     "text": [
      "Model trained successfully!\n"
     ]
    },
    {
     "name": "stderr",
     "output_type": "stream",
     "text": [
      "c:\\Users\\ShamithaReddy\\Desktop\\NLP\\myenv\\lib\\site-packages\\sklearn\\linear_model\\_logistic.py:460: ConvergenceWarning: lbfgs failed to converge (status=1):\n",
      "STOP: TOTAL NO. of ITERATIONS REACHED LIMIT.\n",
      "\n",
      "Increase the number of iterations (max_iter) or scale the data as shown in:\n",
      "    https://scikit-learn.org/stable/modules/preprocessing.html\n",
      "Please also refer to the documentation for alternative solver options:\n",
      "    https://scikit-learn.org/stable/modules/linear_model.html#logistic-regression\n",
      "  n_iter_i = _check_optimize_result(\n"
     ]
    }
   ],
   "source": [
    "from sklearn.linear_model import LogisticRegression\n",
    "model=LogisticRegression()\n",
    "model.fit(X_train,y_train)\n",
    "print(\"Model trained successfully!\")"
   ]
  },
  {
   "cell_type": "code",
   "execution_count": 14,
   "id": "a065df2b",
   "metadata": {},
   "outputs": [
    {
     "name": "stdout",
     "output_type": "stream",
     "text": [
      "accuracy score 88.19\n"
     ]
    }
   ],
   "source": [
    "from sklearn.metrics import accuracy_score\n",
    "y_pred=model.predict(X_test)\n",
    "print('accuracy score',accuracy_score(y_test,y_pred)*100)"
   ]
  },
  {
   "cell_type": "code",
   "execution_count": 15,
   "id": "fab6d8e3",
   "metadata": {},
   "outputs": [],
   "source": [
    "def predict_sentiment(review_text):\n",
    "    claned=preprocess_text(review_text)\n",
    "    vectorized=vectorizer.transform([claned])\n",
    "    prediction=model.predict(vectorized)[0]\n",
    "    sentiment=\"Positive 😊\" if prediction ==1 else \"Negative 😔\"\n",
    "    return sentiment"
   ]
  },
  {
   "cell_type": "code",
   "execution_count": 16,
   "id": "85656aae",
   "metadata": {},
   "outputs": [
    {
     "name": "stdout",
     "output_type": "stream",
     "text": [
      "Review: The moview was fantastic! The performances were top-notch and the story was gripping\n",
      "Predicted Sentiment: Positive 😊\n",
      "\n",
      "Review: This was a terrible movie.Boring plot and awful acting\n",
      "Prediction Sentiment: Negative 😔\n"
     ]
    }
   ],
   "source": [
    "input_review=\"The moview was fantastic! The performances were top-notch and the story was gripping\"\n",
    "print(\"Review:\",input_review)\n",
    "print(\"Predicted Sentiment:\",predict_sentiment(input_review))\n",
    "\n",
    "input_review=\"This was a terrible movie.Boring plot and awful acting\"\n",
    "print(\"\\nReview:\",input_review)\n",
    "print(\"Prediction Sentiment:\",predict_sentiment(input_review))"
   ]
  }
 ],
 "metadata": {
  "kernelspec": {
   "display_name": "myenv",
   "language": "python",
   "name": "python3"
  },
  "language_info": {
   "codemirror_mode": {
    "name": "ipython",
    "version": 3
   },
   "file_extension": ".py",
   "mimetype": "text/x-python",
   "name": "python",
   "nbconvert_exporter": "python",
   "pygments_lexer": "ipython3",
   "version": "3.8.5"
  }
 },
 "nbformat": 4,
 "nbformat_minor": 5
}
