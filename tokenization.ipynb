{
 "cells": [
  {
   "cell_type": "code",
   "execution_count": 1,
   "id": "a0590897",
   "metadata": {},
   "outputs": [],
   "source": [
    "corpus=\"\"\"\" Hello Welcome, to Ai course.\n",
    "please do watch the entire course! to become expert in the NLP\"\"\""
   ]
  },
  {
   "cell_type": "code",
   "execution_count": 2,
   "id": "cea783b8",
   "metadata": {},
   "outputs": [
    {
     "name": "stdout",
     "output_type": "stream",
     "text": [
      "\" Hello Welcome, to Ai course.\n",
      "please do watch the entire course! to become expert in the NLP\n"
     ]
    }
   ],
   "source": [
    "print(corpus)"
   ]
  },
  {
   "cell_type": "code",
   "execution_count": 3,
   "id": "2f120f22",
   "metadata": {},
   "outputs": [
    {
     "name": "stderr",
     "output_type": "stream",
     "text": [
      "[nltk_data] Downloading package punkt_tab to\n",
      "[nltk_data]     C:\\Users\\ShamithaReddy\\AppData\\Roaming\\nltk_data...\n",
      "[nltk_data]   Unzipping tokenizers\\punkt_tab.zip.\n"
     ]
    },
    {
     "data": {
      "text/plain": [
       "['\" Hello Welcome, to Ai course.',\n",
       " 'please do watch the entire course!',\n",
       " 'to become expert in the NLP']"
      ]
     },
     "execution_count": 3,
     "metadata": {},
     "output_type": "execute_result"
    }
   ],
   "source": [
    "import nltk\n",
    "nltk.download('punkt_tab')\n",
    "from nltk.tokenize import sent_tokenize\n",
    "sentence_token=sent_tokenize(corpus)\n",
    "sentence_token"
   ]
  },
  {
   "cell_type": "code",
   "execution_count": 4,
   "id": "46ae2cd4",
   "metadata": {},
   "outputs": [
    {
     "data": {
      "text/plain": [
       "['``',\n",
       " 'Hello',\n",
       " 'Welcome',\n",
       " ',',\n",
       " 'to',\n",
       " 'Ai',\n",
       " 'course',\n",
       " '.',\n",
       " 'please',\n",
       " 'do',\n",
       " 'watch',\n",
       " 'the',\n",
       " 'entire',\n",
       " 'course',\n",
       " '!',\n",
       " 'to',\n",
       " 'become',\n",
       " 'expert',\n",
       " 'in',\n",
       " 'the',\n",
       " 'NLP']"
      ]
     },
     "execution_count": 4,
     "metadata": {},
     "output_type": "execute_result"
    }
   ],
   "source": [
    "from nltk import word_tokenize\n",
    "word=word_tokenize(corpus)\n",
    "word"
   ]
  },
  {
   "cell_type": "code",
   "execution_count": 5,
   "id": "41bc25e2",
   "metadata": {},
   "outputs": [
    {
     "name": "stdout",
     "output_type": "stream",
     "text": [
      "['``', 'Hello', 'Welcome', ',', 'to', 'Ai', 'course', '.']\n",
      "['please', 'do', 'watch', 'the', 'entire', 'course', '!']\n",
      "['to', 'become', 'expert', 'in', 'the', 'NLP']\n"
     ]
    }
   ],
   "source": [
    "for sentence in sentence_token:\n",
    "    print(word_tokenize(sentence))"
   ]
  },
  {
   "cell_type": "code",
   "execution_count": 6,
   "id": "5c4fade6",
   "metadata": {},
   "outputs": [
    {
     "data": {
      "text/plain": [
       "['\"',\n",
       " 'Hello',\n",
       " 'Welcome',\n",
       " ',',\n",
       " 'to',\n",
       " 'Ai',\n",
       " 'course',\n",
       " '.',\n",
       " 'please',\n",
       " 'do',\n",
       " 'watch',\n",
       " 'the',\n",
       " 'entire',\n",
       " 'course',\n",
       " '!',\n",
       " 'to',\n",
       " 'become',\n",
       " 'expert',\n",
       " 'in',\n",
       " 'the',\n",
       " 'NLP']"
      ]
     },
     "execution_count": 6,
     "metadata": {},
     "output_type": "execute_result"
    }
   ],
   "source": [
    "from nltk import wordpunct_tokenize\n",
    "wordpunct_tokenize(corpus)"
   ]
  },
  {
   "cell_type": "code",
   "execution_count": 7,
   "id": "bcf0d508",
   "metadata": {},
   "outputs": [],
   "source": [
    "words=['eating','eaten','eats','writing','writes','programmings','programs','history','finally','finalized']"
   ]
  },
  {
   "cell_type": "code",
   "execution_count": 8,
   "id": "e3c1b4d8",
   "metadata": {},
   "outputs": [
    {
     "name": "stdout",
     "output_type": "stream",
     "text": [
      "eating===eat\n",
      "eaten===eaten\n",
      "eats===eat\n",
      "writing===write\n",
      "writes===write\n",
      "programmings===program\n",
      "programs===program\n",
      "history===histori\n",
      "finally===final\n",
      "finalized===final\n"
     ]
    }
   ],
   "source": [
    "from nltk.stem import PorterStemmer  \n",
    "stemming=PorterStemmer()\n",
    "for word in words:\n",
    "    print(word+\"===\"+stemming.stem(word))"
   ]
  },
  {
   "cell_type": "code",
   "execution_count": 9,
   "id": "f64688c6",
   "metadata": {},
   "outputs": [
    {
     "name": "stderr",
     "output_type": "stream",
     "text": [
      "[nltk_data] Downloading package wordnet to\n",
      "[nltk_data]     C:\\Users\\ShamithaReddy\\AppData\\Roaming\\nltk_data...\n",
      "[nltk_data]   Package wordnet is already up-to-date!\n"
     ]
    },
    {
     "data": {
      "text/plain": [
       "'go'"
      ]
     },
     "execution_count": 9,
     "metadata": {},
     "output_type": "execute_result"
    }
   ],
   "source": [
    "nltk.download('wordnet')\n",
    "from nltk.stem import WordNetLemmatizer\n",
    "lemmetizer=WordNetLemmatizer()\n",
    "lemmetizer.lemmatize('going',pos='v')"
   ]
  },
  {
   "cell_type": "code",
   "execution_count": 10,
   "id": "1166c0e6",
   "metadata": {},
   "outputs": [
    {
     "name": "stdout",
     "output_type": "stream",
     "text": [
      "eating===eat\n",
      "eaten===eat\n",
      "eats===eat\n",
      "writing===write\n",
      "writes===write\n",
      "programmings===programmings\n",
      "programs===program\n",
      "history===history\n",
      "finally===finally\n",
      "finalized===finalize\n"
     ]
    }
   ],
   "source": [
    "words=['eating','eaten','eats','writing','writes','programmings','programs','history','finally','finalized']\n",
    "for word in words:\n",
    "    print(word+\"===\"+lemmetizer.lemmatize(word,pos='v'))"
   ]
  }
 ],
 "metadata": {
  "kernelspec": {
   "display_name": "myenv",
   "language": "python",
   "name": "python3"
  },
  "language_info": {
   "codemirror_mode": {
    "name": "ipython",
    "version": 3
   },
   "file_extension": ".py",
   "mimetype": "text/x-python",
   "name": "python",
   "nbconvert_exporter": "python",
   "pygments_lexer": "ipython3",
   "version": "3.8.5"
  }
 },
 "nbformat": 4,
 "nbformat_minor": 5
}
